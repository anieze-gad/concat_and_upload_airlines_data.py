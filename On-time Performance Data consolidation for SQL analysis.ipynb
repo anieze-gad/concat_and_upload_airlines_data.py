{
 "cells": [
  {
   "cell_type": "code",
   "execution_count": 2,
   "id": "01cea11f-5e8b-4916-83c4-3255c6be4841",
   "metadata": {},
   "outputs": [
    {
     "name": "stdout",
     "output_type": "stream",
     "text": [
      "Processing file: C:/Users/user/Desktop/DATASET/Airline_data\\airline_data_12.csv\n",
      "Processing file: C:/Users/user/Desktop/DATASET/Airline_data\\airline_data_april.csv\n",
      "Processing file: C:/Users/user/Desktop/DATASET/Airline_data\\airline_data_august.csv\n",
      "Processing file: C:/Users/user/Desktop/DATASET/Airline_data\\airline_data_dec.csv\n",
      "Processing file: C:/Users/user/Desktop/DATASET/Airline_data\\airline_data_feb.csv\n",
      "Processing file: C:/Users/user/Desktop/DATASET/Airline_data\\airline_data_jan.csv\n",
      "Processing file: C:/Users/user/Desktop/DATASET/Airline_data\\airline_data_july.csv\n",
      "Processing file: C:/Users/user/Desktop/DATASET/Airline_data\\airline_data_june.csv\n",
      "Processing file: C:/Users/user/Desktop/DATASET/Airline_data\\airline_data_march.csv\n",
      "Processing file: C:/Users/user/Desktop/DATASET/Airline_data\\airline_data_may.csv\n",
      "Processing file: C:/Users/user/Desktop/DATASET/Airline_data\\airline_data_nov.csv\n",
      "Processing file: C:/Users/user/Desktop/DATASET/Airline_data\\airline_data_oct.csv\n",
      "Processing file: C:/Users/user/Desktop/DATASET/Airline_data\\airline_data_sept.csv\n"
     ]
    }
   ],
   "source": [
    "import os \n",
    "import pandas as pd\n",
    "\n",
    "folder_path = \"C:/Users/user/Desktop/DATASET/Airline_data\"\n",
    "\n",
    "airline_data_12 = pd.DataFrame()\n",
    "\n",
    "\n",
    "for file_name in os.listdir(folder_path):\n",
    "    if file_name.endswith(\".csv\"):\n",
    "        file_path = os.path.join(folder_path,file_name)\n",
    "        print(f\"Processing file: {file_path}\")\n",
    "        temp_df = pd.read_csv(file_path)\n",
    "        airline_data_12 = pd.concat([airline_data_12,temp_df],ignore_index = True)"
   ]
  },
  {
   "cell_type": "code",
   "execution_count": 3,
   "id": "a16f053f-8369-4ac5-b174-4c16f0d104c6",
   "metadata": {},
   "outputs": [
    {
     "name": "stdout",
     "output_type": "stream",
     "text": [
      "Processing file: C:/Users/user/Desktop/DATASET/Airline_data\\airline_data_12.csv\n",
      "Processing file: C:/Users/user/Desktop/DATASET/Airline_data\\airline_data_april.csv\n",
      "Processing file: C:/Users/user/Desktop/DATASET/Airline_data\\airline_data_august.csv\n",
      "Processing file: C:/Users/user/Desktop/DATASET/Airline_data\\airline_data_dec.csv\n",
      "Processing file: C:/Users/user/Desktop/DATASET/Airline_data\\airline_data_feb.csv\n",
      "Processing file: C:/Users/user/Desktop/DATASET/Airline_data\\airline_data_jan.csv\n",
      "Processing file: C:/Users/user/Desktop/DATASET/Airline_data\\airline_data_july.csv\n",
      "Processing file: C:/Users/user/Desktop/DATASET/Airline_data\\airline_data_june.csv\n",
      "Processing file: C:/Users/user/Desktop/DATASET/Airline_data\\airline_data_march.csv\n",
      "Processing file: C:/Users/user/Desktop/DATASET/Airline_data\\airline_data_may.csv\n",
      "Processing file: C:/Users/user/Desktop/DATASET/Airline_data\\airline_data_nov.csv\n",
      "Processing file: C:/Users/user/Desktop/DATASET/Airline_data\\airline_data_oct.csv\n",
      "Processing file: C:/Users/user/Desktop/DATASET/Airline_data\\airline_data_sept.csv\n"
     ]
    }
   ],
   "source": [
    "import os \n",
    "import pandas as pd\n",
    "\n",
    "folder_path = \"C:/Users/user/Desktop/DATASET/Airline_data\"\n",
    "\n",
    "airline_data_12 = pd.DataFrame()\n",
    "\n",
    "\n",
    "for file_name in os.listdir(folder_path):\n",
    "    if file_name.endswith(\".csv\"):\n",
    "        file_path = os.path.join(folder_path,file_name)\n",
    "        print(f\"Processing file: {file_path}\")\n",
    "        temp_df = pd.read_csv(file_path)\n",
    "        airline_data_12 = pd.concat([airline_data_12,temp_df],ignore_index = True)"
   ]
  },
  {
   "cell_type": "code",
   "execution_count": 4,
   "id": "aeabdf23-614c-46d4-9412-2731ec60e162",
   "metadata": {},
   "outputs": [
    {
     "data": {
      "text/plain": [
       "<bound method NDFrame.head of           YEAR  QUARTER  DAY_OF_MONTH  DAY_OF_WEEK                FL_DATE  \\\n",
       "0         2024        2             1            1   4/1/2024 12:00:00 AM   \n",
       "1         2024        2             1            1   4/1/2024 12:00:00 AM   \n",
       "2         2024        2             1            1   4/1/2024 12:00:00 AM   \n",
       "3         2024        2             1            1   4/1/2024 12:00:00 AM   \n",
       "4         2024        2             1            1   4/1/2024 12:00:00 AM   \n",
       "...        ...      ...           ...          ...                    ...   \n",
       "14094489  2024        3            30            1  9/30/2024 12:00:00 AM   \n",
       "14094490  2024        3            30            1  9/30/2024 12:00:00 AM   \n",
       "14094491  2024        3            30            1  9/30/2024 12:00:00 AM   \n",
       "14094492  2024        3            30            1  9/30/2024 12:00:00 AM   \n",
       "14094493  2024        3            30            1  9/30/2024 12:00:00 AM   \n",
       "\n",
       "         OP_UNIQUE_CARRIER OP_CARRIER TAIL_NUM  ORIGIN_AIRPORT_ID  \\\n",
       "0                       9E         9E   N131EV              12339   \n",
       "1                       9E         9E   N131EV              12478   \n",
       "2                       9E         9E   N131EV              13487   \n",
       "3                       9E         9E   N131EV              13487   \n",
       "4                       9E         9E   N131EV              15919   \n",
       "...                    ...        ...      ...                ...   \n",
       "14094489                YX         YX   N882RW              12953   \n",
       "14094490                YX         YX   N882RW              14122   \n",
       "14094491                YX         YX   N979RP              11193   \n",
       "14094492                YX         YX   N979RP              11618   \n",
       "14094493                YX         YX   N979RP              12339   \n",
       "\n",
       "          ORIGIN_AIRPORT_SEQ_ID  ...  DEP_DELAY_NEW  DEP_DEL15  ARR_TIME  \\\n",
       "0                       1233904  ...            0.0        0.0    1332.0   \n",
       "1                       1247805  ...            0.0        0.0    1158.0   \n",
       "2                       1348702  ...            0.0        0.0    2202.0   \n",
       "3                       1348702  ...            0.0        0.0    1624.0   \n",
       "4                       1591905  ...            0.0        0.0    1908.0   \n",
       "...                         ...  ...            ...        ...       ...   \n",
       "14094489                1295304  ...            0.0        0.0    2024.0   \n",
       "14094490                1412202  ...            0.0        0.0    1820.0   \n",
       "14094491                1119302  ...            0.0        0.0    1614.0   \n",
       "14094492                1161802  ...            0.0        0.0    1304.0   \n",
       "14094493                1233904  ...            0.0        0.0    1013.0   \n",
       "\n",
       "          ARR_DELAY  ARR_DELAY_NEW  ARR_DEL15  CANCELLED  CANCELLATION_CODE  \\\n",
       "0               0.0            0.0        0.0        0.0                NaN   \n",
       "1               1.0            1.0        0.0        0.0                NaN   \n",
       "2             -11.0            0.0        0.0        0.0                NaN   \n",
       "3               1.0            1.0        0.0        0.0                NaN   \n",
       "4               7.0            7.0        0.0        0.0                NaN   \n",
       "...             ...            ...        ...        ...                ...   \n",
       "14094489      -31.0            0.0        0.0        0.0                NaN   \n",
       "14094490      -10.0            0.0        0.0        0.0                NaN   \n",
       "14094491      -15.0            0.0        0.0        0.0                NaN   \n",
       "14094492      -34.0            0.0        0.0        0.0                NaN   \n",
       "14094493      -20.0            0.0        0.0        0.0                NaN   \n",
       "\n",
       "          DIVERTED  DISTANCE  \n",
       "0              0.0     503.0  \n",
       "1              0.0     665.0  \n",
       "2              0.0      76.0  \n",
       "3              0.0     596.0  \n",
       "4              0.0     596.0  \n",
       "...            ...       ...  \n",
       "14094489       0.0     335.0  \n",
       "14094490       0.0     335.0  \n",
       "14094491       0.0     569.0  \n",
       "14094492       0.0     569.0  \n",
       "14094493       0.0     645.0  \n",
       "\n",
       "[14094494 rows x 26 columns]>"
      ]
     },
     "execution_count": 4,
     "metadata": {},
     "output_type": "execute_result"
    }
   ],
   "source": [
    "airline_data_12.head"
   ]
  },
  {
   "cell_type": "code",
   "execution_count": 6,
   "id": "9fc07866-7d7e-4bbb-b64b-9d85cae80855",
   "metadata": {},
   "outputs": [],
   "source": [
    "output_path = \"C:/Users/user/Desktop/Tableau/fligt_data.csv\"\n",
    "airline_data_12.to_csv(output_path, index = False)"
   ]
  },
  {
   "cell_type": "code",
   "execution_count": null,
   "id": "27d1eb94-d48e-48c9-a25c-ba5453bdf252",
   "metadata": {},
   "outputs": [],
   "source": []
  }
 ],
 "metadata": {
  "kernelspec": {
   "display_name": "Python 3 (ipykernel)",
   "language": "python",
   "name": "python3"
  },
  "language_info": {
   "codemirror_mode": {
    "name": "ipython",
    "version": 3
   },
   "file_extension": ".py",
   "mimetype": "text/x-python",
   "name": "python",
   "nbconvert_exporter": "python",
   "pygments_lexer": "ipython3",
   "version": "3.11.7"
  }
 },
 "nbformat": 4,
 "nbformat_minor": 5
}
